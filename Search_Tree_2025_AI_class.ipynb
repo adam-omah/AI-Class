{
  "nbformat": 4,
  "nbformat_minor": 0,
  "metadata": {
    "colab": {
      "provenance": []
    },
    "kernelspec": {
      "name": "python3",
      "display_name": "Python 3"
    },
    "language_info": {
      "name": "python"
    }
  },
  "cells": [
    {
      "cell_type": "code",
      "source": [
        "\" \"*9"
      ],
      "metadata": {
        "colab": {
          "base_uri": "https://localhost:8080/",
          "height": 36
        },
        "id": "-xrff0cfMutU",
        "outputId": "df34b1a6-fb84-4d6b-a505-75d6c12daf2b"
      },
      "execution_count": null,
      "outputs": [
        {
          "output_type": "execute_result",
          "data": {
            "text/plain": [
              "'         '"
            ],
            "application/vnd.google.colaboratory.intrinsic+json": {
              "type": "string"
            }
          },
          "metadata": {},
          "execution_count": 1
        }
      ]
    },
    {
      "cell_type": "markdown",
      "source": [
        "How do we represent a board and how do we allow it to create other baords.\n",
        "\n",
        "When on a move, the next part must be able to produce all the possible moves of the next move.\n",
        "\n",
        "There needs to be a punishment for repeated moves if game is not deterministic, such as chess. if the same pattern of moves is repeated then it is considered a loss.\n",
        "\n",
        "For the assignment, will have to pick a simple game, that has a large branching factor, that would crash if the tree tried to do a complete tree.\n",
        "\n",
        "We need to determine how to assign values for an incomplete tree. lets say 7-9 moves ahead and evaluates the current state.\n",
        "\n",
        "Example of chess, assign values for each unit, then determine the current sum total of all pieces for each player, compare the totals and determin the best move from this."
      ],
      "metadata": {
        "id": "n8wXaQN6M9Pp"
      }
    },
    {
      "cell_type": "code",
      "execution_count": null,
      "metadata": {
        "id": "GZDRHvfFMT3F"
      },
      "outputs": [],
      "source": [
        "class Currentboard():\n",
        "  board = \"\"\n",
        "\n",
        "  def __init__(self, string_def = \" \"*9):\n",
        "    self.board = string_def\n",
        "    self.state = self.state_of_board()\n",
        "\n",
        "\n",
        "  def display(self):\n",
        "    c = self.board\n",
        "    print(c[0]+ \"|\" + c[1] + \"|\" + c[2])\n",
        "    print(\"-----\")\n",
        "    print(c[3]+ \"|\" + c[4] + \"|\" + c[5])\n",
        "    print(\"-----\")\n",
        "    print(c[6]+ \"|\" + c[7] + \"|\" + c[8])\n",
        "\n",
        "  def all_possible_moves(self,for_piece):\n",
        "    possible_moves =[]\n",
        "    for i in range(9):\n",
        "      if self.board[i] == \" \":\n",
        "        possible_moves.append(Currentboard(self.board[:i] + for_piece + self.board[i+1:]))\n",
        "    return possible_moves\n",
        "\n",
        "\n",
        "  def other_player(self,piece):\n",
        "    if piece == \"X\":\n",
        "      return \"O\"\n",
        "    return \"X\"\n",
        "\n",
        "  def Eq3(self,a,b,c):\n",
        "    return self.board[a] == self.board[b] and self.board[b] == self.board[c] and self.board[a] != \" \"\n",
        "\n",
        "  def state_of_board(self):\n",
        "    # retuns \"U\" if unfinished\n",
        "    # check winner\n",
        "    if self.Eq3(0,1,2) or self.Eq3(0,3,6) or self.Eq3(0,4,8):\n",
        "      return self.board[0]\n",
        "    if self.Eq3(3,4,5) or self.Eq3(1,4,7) or self.Eq3(2,4,6):\n",
        "      return self.board[4]\n",
        "    if self.Eq3(6,7,8) or self.Eq3(2,5,8):\n",
        "      return self.board[8]\n",
        "    if \" \" in self.board:\n",
        "      return \"U\"\n",
        "    return \"D\"\n",
        "\n",
        "\n",
        "\n",
        "\n",
        "\n",
        "\n",
        "\n"
      ]
    },
    {
      "cell_type": "code",
      "source": [
        "class SearchTreeNode:\n",
        "  def __init__(self,board_instance, playing_as, ply_depth_def = 0):\n",
        "    self.children = []\n",
        "    self.current_board = board_instance\n",
        "    self.move_for = playing_as\n",
        "    self.ply_depth = ply_depth_def\n",
        "    self.value_is_assigned = False\n",
        "\n",
        "    if self.current_board.state_of_board() == \"U\":\n",
        "      self.generate_children()\n",
        "    else:\n",
        "      # change value is assigned when a value is determined.\n",
        "      self.value_is_assigned = True\n",
        "      if self.current_board.state_of_board() == \"D\":\n",
        "        self.value = 0\n",
        "      # If the ply depth is even the player wins, AI wins if % !=0\n",
        "      else:\n",
        "        if(self.ply_depth % 2 == 0):\n",
        "          self.value = -1\n",
        "        else:\n",
        "          self.value = 1\n",
        "\n",
        "  def min_max_value(self):\n",
        "\n",
        "    if self.value_is_assigned:\n",
        "      return self.value\n",
        "\n",
        "    self.children = sorted(self.children, key=lambda x: x.min_max_value())\n",
        "    if self.ply_depth % 2 == 0:\n",
        "      self.value = self.children[-1].value\n",
        "    else:\n",
        "      self.value = self.children[0].value\n",
        "    # must set self value is assigned to true\n",
        "    self.value_is_assigned = True\n",
        "    return self.value\n",
        "\n",
        "  def generate_children(self):\n",
        "    for board_for_next_move in self.current_board.all_possible_moves(self.move_for):\n",
        "      self.children.append(SearchTreeNode(board_for_next_move, self.current_board.other_player(self.move_for), self.ply_depth+1))\n"
      ],
      "metadata": {
        "id": "VWC8zxD0Sd9K"
      },
      "execution_count": null,
      "outputs": []
    },
    {
      "cell_type": "code",
      "source": [
        "cb = Currentboard(\"XXXOOOXXX\")\n",
        "cb.display()"
      ],
      "metadata": {
        "colab": {
          "base_uri": "https://localhost:8080/"
        },
        "id": "_BcAAh7BOBkD",
        "outputId": "3d345f8f-2569-4cbf-b1ba-0b28e19e8a55"
      },
      "execution_count": null,
      "outputs": [
        {
          "output_type": "stream",
          "name": "stdout",
          "text": [
            "X|X|X\n",
            "-----\n",
            "O|O|O\n",
            "-----\n",
            "X|X|X\n"
          ]
        }
      ]
    },
    {
      "cell_type": "code",
      "source": [
        "cb.state"
      ],
      "metadata": {
        "colab": {
          "base_uri": "https://localhost:8080/",
          "height": 36
        },
        "id": "jFAycoqBbCGB",
        "outputId": "7bb434e2-57da-47f3-941d-3ea70ab8eed4"
      },
      "execution_count": null,
      "outputs": [
        {
          "output_type": "execute_result",
          "data": {
            "text/plain": [
              "'X'"
            ],
            "application/vnd.google.colaboratory.intrinsic+json": {
              "type": "string"
            }
          },
          "metadata": {},
          "execution_count": 5
        }
      ]
    },
    {
      "cell_type": "code",
      "source": [
        "cb = Currentboard()"
      ],
      "metadata": {
        "id": "s831Q5g2R5hP"
      },
      "execution_count": null,
      "outputs": []
    },
    {
      "cell_type": "code",
      "source": [
        "cb.display()"
      ],
      "metadata": {
        "colab": {
          "base_uri": "https://localhost:8080/"
        },
        "id": "UfydBspRVd_p",
        "outputId": "11b25375-0701-4da0-def5-784efb5b6332"
      },
      "execution_count": null,
      "outputs": [
        {
          "output_type": "stream",
          "name": "stdout",
          "text": [
            " | | \n",
            "-----\n",
            " | | \n",
            "-----\n",
            " | | \n"
          ]
        }
      ]
    },
    {
      "cell_type": "code",
      "source": [
        "cb.state"
      ],
      "metadata": {
        "colab": {
          "base_uri": "https://localhost:8080/",
          "height": 36
        },
        "id": "KZrVncbmbMRK",
        "outputId": "7e1b02bd-c042-4d06-8053-20ea93f80587"
      },
      "execution_count": null,
      "outputs": [
        {
          "output_type": "execute_result",
          "data": {
            "text/plain": [
              "'U'"
            ],
            "application/vnd.google.colaboratory.intrinsic+json": {
              "type": "string"
            }
          },
          "metadata": {},
          "execution_count": 8
        }
      ]
    },
    {
      "cell_type": "code",
      "source": [
        "possible_moves = cb.all_possible_moves(\"X\")"
      ],
      "metadata": {
        "id": "H_Ya9UvTOLeH"
      },
      "execution_count": null,
      "outputs": []
    },
    {
      "cell_type": "code",
      "source": [
        "possible_moves[0].display()"
      ],
      "metadata": {
        "colab": {
          "base_uri": "https://localhost:8080/"
        },
        "id": "rVR7gcLzSTtv",
        "outputId": "ac149ec5-2935-41e7-9150-b3d33d716a2a"
      },
      "execution_count": null,
      "outputs": [
        {
          "output_type": "stream",
          "name": "stdout",
          "text": [
            "X| | \n",
            "-----\n",
            " | | \n",
            "-----\n",
            " | | \n"
          ]
        }
      ]
    },
    {
      "cell_type": "code",
      "source": [
        "OMove = possible_moves[0].all_possible_moves(\"O\")"
      ],
      "metadata": {
        "id": "6Nq9thxsSVkr"
      },
      "execution_count": null,
      "outputs": []
    },
    {
      "cell_type": "code",
      "source": [
        "OMove[0].display()"
      ],
      "metadata": {
        "colab": {
          "base_uri": "https://localhost:8080/"
        },
        "id": "jIm2Cg5CSZ09",
        "outputId": "0ace67da-3625-47db-d959-1647cc39d632"
      },
      "execution_count": null,
      "outputs": [
        {
          "output_type": "stream",
          "name": "stdout",
          "text": [
            "X|O| \n",
            "-----\n",
            " | | \n",
            "-----\n",
            " | | \n"
          ]
        }
      ]
    },
    {
      "cell_type": "code",
      "source": [
        "st = SearchTreeNode(cb,\"X\")"
      ],
      "metadata": {
        "id": "46a0hnSsVXqS"
      },
      "execution_count": null,
      "outputs": []
    },
    {
      "cell_type": "code",
      "source": [
        "st.current_board.display()"
      ],
      "metadata": {
        "colab": {
          "base_uri": "https://localhost:8080/"
        },
        "id": "epuNTpwPV54o",
        "outputId": "6fa70c7f-779a-4a75-9558-3b42b0fa5d2e"
      },
      "execution_count": null,
      "outputs": [
        {
          "output_type": "stream",
          "name": "stdout",
          "text": [
            " | | \n",
            "-----\n",
            " | | \n",
            "-----\n",
            " | | \n"
          ]
        }
      ]
    },
    {
      "cell_type": "code",
      "source": [
        "st.children[0].current_board.value"
      ],
      "metadata": {
        "colab": {
          "base_uri": "https://localhost:8080/",
          "height": 141
        },
        "id": "vvyceY6cWAUi",
        "outputId": "e6c3fd92-31c4-48bb-ad4a-044311bde846"
      },
      "execution_count": null,
      "outputs": [
        {
          "output_type": "error",
          "ename": "AttributeError",
          "evalue": "'Currentboard' object has no attribute 'value'",
          "traceback": [
            "\u001b[0;31m---------------------------------------------------------------------------\u001b[0m",
            "\u001b[0;31mAttributeError\u001b[0m                            Traceback (most recent call last)",
            "\u001b[0;32m<ipython-input-15-917533561ae7>\u001b[0m in \u001b[0;36m<cell line: 0>\u001b[0;34m()\u001b[0m\n\u001b[0;32m----> 1\u001b[0;31m \u001b[0mst\u001b[0m\u001b[0;34m.\u001b[0m\u001b[0mchildren\u001b[0m\u001b[0;34m[\u001b[0m\u001b[0;36m0\u001b[0m\u001b[0;34m]\u001b[0m\u001b[0;34m.\u001b[0m\u001b[0mcurrent_board\u001b[0m\u001b[0;34m.\u001b[0m\u001b[0mvalue\u001b[0m\u001b[0;34m\u001b[0m\u001b[0;34m\u001b[0m\u001b[0m\n\u001b[0m",
            "\u001b[0;31mAttributeError\u001b[0m: 'Currentboard' object has no attribute 'value'"
          ]
        }
      ]
    },
    {
      "cell_type": "code",
      "source": [
        "st.children[5].children[0].current_board.display()"
      ],
      "metadata": {
        "id": "YhLlkhv8WQue"
      },
      "execution_count": null,
      "outputs": []
    },
    {
      "cell_type": "code",
      "source": [
        "st.min_max_value()"
      ],
      "metadata": {
        "colab": {
          "base_uri": "https://localhost:8080/"
        },
        "id": "8_7Yr5_lDBJH",
        "outputId": "6710825b-811f-4044-f8f2-572499146c64"
      },
      "execution_count": null,
      "outputs": [
        {
          "output_type": "execute_result",
          "data": {
            "text/plain": [
              "0"
            ]
          },
          "metadata": {},
          "execution_count": 16
        }
      ]
    },
    {
      "cell_type": "code",
      "source": [
        "st.children[-1].current_board.display()"
      ],
      "metadata": {
        "colab": {
          "base_uri": "https://localhost:8080/"
        },
        "id": "gjlpvdjoDbyo",
        "outputId": "006e648c-a335-4b2a-9007-6d2102935b05"
      },
      "execution_count": null,
      "outputs": [
        {
          "output_type": "stream",
          "name": "stdout",
          "text": [
            " | | \n",
            "-----\n",
            " | | \n",
            "-----\n",
            " | |X\n"
          ]
        }
      ]
    },
    {
      "cell_type": "code",
      "source": [
        "cb = Currentboard(\"X   O  OX\")\n",
        "cb.display()"
      ],
      "metadata": {
        "id": "p-xIDG-cDoWn"
      },
      "execution_count": null,
      "outputs": []
    },
    {
      "cell_type": "code",
      "source": [
        "st = SearchTreeNode(cb,\"X\")"
      ],
      "metadata": {
        "id": "cCKKLm_EEAua"
      },
      "execution_count": null,
      "outputs": []
    },
    {
      "cell_type": "code",
      "source": [
        "st.min_max_value()"
      ],
      "metadata": {
        "colab": {
          "base_uri": "https://localhost:8080/"
        },
        "id": "ioafyU4CEIZ7",
        "outputId": "f17ef3a5-a3f2-4b2b-aae2-384f98ee7cb4"
      },
      "execution_count": null,
      "outputs": [
        {
          "output_type": "execute_result",
          "data": {
            "text/plain": [
              "0"
            ]
          },
          "metadata": {},
          "execution_count": 20
        }
      ]
    },
    {
      "cell_type": "code",
      "source": [
        "st.children[-1].current_board.display()"
      ],
      "metadata": {
        "colab": {
          "base_uri": "https://localhost:8080/"
        },
        "id": "wWhBRgkPELW1",
        "outputId": "7fed0448-f51d-4dcd-a435-4de0c58d54c2"
      },
      "execution_count": null,
      "outputs": [
        {
          "output_type": "stream",
          "name": "stdout",
          "text": [
            " | | \n",
            "-----\n",
            " | | \n",
            "-----\n",
            " | |X\n"
          ]
        }
      ]
    },
    {
      "cell_type": "code",
      "source": [
        "nexBoard = st.children[-1].current_board"
      ],
      "metadata": {
        "id": "TADLioDpEU0v"
      },
      "execution_count": null,
      "outputs": []
    },
    {
      "cell_type": "code",
      "source": [
        "st2 = SearchTreeNode(nexBoard,\"O\")"
      ],
      "metadata": {
        "id": "MUo0HDkWEfcx"
      },
      "execution_count": null,
      "outputs": []
    },
    {
      "cell_type": "code",
      "source": [
        "st2.min_max_value()"
      ],
      "metadata": {
        "colab": {
          "base_uri": "https://localhost:8080/"
        },
        "id": "PSlxRLfWEg8r",
        "outputId": "b3a90248-6c79-4f12-f2e2-8f8e440a9596"
      },
      "execution_count": null,
      "outputs": [
        {
          "output_type": "execute_result",
          "data": {
            "text/plain": [
              "0"
            ]
          },
          "metadata": {},
          "execution_count": 24
        }
      ]
    },
    {
      "cell_type": "code",
      "source": [
        "st2.children[-1].current_board.display()"
      ],
      "metadata": {
        "colab": {
          "base_uri": "https://localhost:8080/"
        },
        "id": "mnpypORbEjm1",
        "outputId": "9ba643c7-6fc7-4432-9848-a18d42cdba35"
      },
      "execution_count": null,
      "outputs": [
        {
          "output_type": "stream",
          "name": "stdout",
          "text": [
            " | | \n",
            "-----\n",
            " |O| \n",
            "-----\n",
            " | |X\n"
          ]
        }
      ]
    }
  ]
}
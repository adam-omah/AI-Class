{
 "cells": [
  {
   "metadata": {
    "ExecuteTime": {
     "end_time": "2025-02-18T20:50:50.164394Z",
     "start_time": "2025-02-18T20:50:50.148514Z"
    }
   },
   "cell_type": "code",
   "source": [
    "import numpy as np\n",
    "from copy import deepcopy\n",
    "import random"
   ],
   "id": "5600219ff760319c",
   "outputs": [],
   "execution_count": 50
  },
  {
   "metadata": {
    "collapsed": true,
    "ExecuteTime": {
     "end_time": "2025-02-18T20:50:51.487301Z",
     "start_time": "2025-02-18T20:50:51.477040Z"
    }
   },
   "cell_type": "code",
   "source": [
    "# Tile wall index values\n",
    "TILE_WALL_VERTICAL = 0\n",
    "TILE_WALL_HORIZONTAL = 1\n",
    "TILE_WALL_CORNER_BOTTOM_LEFT = 2\n",
    "TILE_WALL_CORNER_BOTTOM_RIGHT = 3\n",
    "TILE_WALL_CORNER_TOP_RIGHT = 4\n",
    "TILE_WALL_CORNER_TOP_LEFT = 5\n",
    "TILE_FLOOR = 6\n",
    "TILE_DOOR_HORIZONTAL = 7\n",
    "TILE_DOOR_VERTICAL = 8"
   ],
   "id": "initial_id",
   "outputs": [],
   "execution_count": 51
  },
  {
   "metadata": {
    "ExecuteTime": {
     "end_time": "2025-02-18T20:50:54.962972Z",
     "start_time": "2025-02-18T20:50:54.947112Z"
    }
   },
   "cell_type": "code",
   "source": [
    "#Constants for genetic algorithm parameters\n",
    "POPULATION_SIZE = 100\n",
    "MAX_GENERATIONS = 100\n",
    "MUTATION_RATE = 0.1\n",
    "NUM_ROOMS = 3 #Target number of rooms"
   ],
   "id": "9d7e48951401c713",
   "outputs": [],
   "execution_count": 52
  },
  {
   "metadata": {
    "ExecuteTime": {
     "end_time": "2025-02-18T20:58:26.648103Z",
     "start_time": "2025-02-18T20:58:26.584217Z"
    }
   },
   "cell_type": "code",
   "source": [
    "class LevelGenerationProblem:\n",
    "    \"\"\"Handles map size, door positions, and fitness evaluation.\"\"\"\n",
    "\n",
    "    def __init__(self, width, height, num_rooms):\n",
    "        self.width = width  # Map width (N)\n",
    "        self.height = height  # Map height (N)\n",
    "        self.num_rooms = num_rooms  # Number of rooms\n",
    "        self.door_positions = self.generate_door_positions()  # Fixed immutable door positions\n",
    "\n",
    "    def generate_door_positions(self):\n",
    "        \"\"\"\n",
    "        Generate immutable door positions for the map.\n",
    "        Door positions are restricted to N-2 x N-2 (to avoid edges).\n",
    "        \"\"\"\n",
    "        positions = []\n",
    "        for _ in range(self.num_rooms - 1):  # Generate `num_rooms - 1` doors\n",
    "            x = random.randint(1, self.width - 2)\n",
    "            y = random.randint(1, self.height - 2)\n",
    "            orientation = random.choice([TILE_DOOR_HORIZONTAL, TILE_DOOR_VERTICAL])  # Random door type\n",
    "            positions.append((x, y, orientation))\n",
    "        return positions\n",
    "\n",
    "    def decode_chromosome(self, chromosome):\n",
    "        \"\"\"Insert doors into the chromosome to build the full map.\"\"\"\n",
    "        map_with_doors = deepcopy(chromosome)\n",
    "\n",
    "        # Add predefined doors while maintaining immutability\n",
    "        for x, y, orientation in self.door_positions:\n",
    "            map_with_doors[y, x] = orientation\n",
    "\n",
    "        return map_with_doors\n",
    "\n",
    "    def calculate_fitness(self, chromosome):\n",
    "        \"\"\"\n",
    "        Fitness evaluation for a map, returning fitness and score map.\n",
    "        \"\"\"\n",
    "        map_with_doors = self.decode_chromosome(chromosome)\n",
    "        fitness = 0\n",
    "        score_map = {}  # Initialize score map\n",
    "        visited = set()\n",
    "\n",
    "        for y in range(self.height):\n",
    "            for x in range(self.width):\n",
    "                if (x, y) not in visited and map_with_doors[y, x] in [\n",
    "                    TILE_WALL_HORIZONTAL,\n",
    "                    TILE_WALL_VERTICAL,\n",
    "                    TILE_DOOR_HORIZONTAL,\n",
    "                    TILE_DOOR_VERTICAL,\n",
    "                    TILE_WALL_CORNER_BOTTOM_LEFT,\n",
    "                    TILE_WALL_CORNER_BOTTOM_RIGHT,\n",
    "                    TILE_WALL_CORNER_TOP_RIGHT,\n",
    "                    TILE_WALL_CORNER_TOP_LEFT,\n",
    "                ]:\n",
    "                    is_valid, score, tiles, tile_scores = self.validate_enclosure(map_with_doors, x, y)\n",
    "                    visited.update(tiles)\n",
    "                    fitness += score if is_valid else -score  # Add or penalize based on validity\n",
    "                    score_map.update(tile_scores)  # merge dictionaries\n",
    "\n",
    "        return fitness, score_map\n",
    "\n",
    "    def generate_scored_map(self, chromosome):\n",
    "        \"\"\"\n",
    "            Generates a scored map from a chromosome, highlighting positive scores and\n",
    "            using spaces for non-positive scores.\n",
    "\n",
    "            Args:\n",
    "                chromosome: The chromosome representing the map.\n",
    "\n",
    "            Returns:\n",
    "                numpy.ndarray: The scored map.\n",
    "            \"\"\"\n",
    "        decoded_map = self.decode_chromosome(chromosome)\n",
    "        fitness, score_map = self.calculate_fitness(chromosome)\n",
    "\n",
    "        scored_map = np.full_like(decoded_map, -1, dtype=object)\n",
    "\n",
    "        for (x, y), score in score_map.items():\n",
    "            if score > 0:\n",
    "                scored_map[y, x] = decoded_map[y, x]\n",
    "            else:\n",
    "                scored_map[y, x] = \" \"\n",
    "\n",
    "        vertical = ' | '\n",
    "        horizontal = '---'\n",
    "        corner_bottom_left = ' |_'\n",
    "        corner_bottom_right = '_| '\n",
    "        corner_top_right = ' |‾'\n",
    "        corner_top_left = '‾| '\n",
    "\n",
    "        door_horizontal = 'HD'\n",
    "        door_vertical = 'VD'  # Corrected typo\n",
    "\n",
    "        output = \"\"\n",
    "        for row in scored_map:\n",
    "            formatted_row = []\n",
    "            for tile in row:\n",
    "                if tile == 0:\n",
    "                    formatted_row.append(vertical.ljust(3))\n",
    "                elif tile == 1:\n",
    "                    formatted_row.append(horizontal.ljust(3))\n",
    "                elif tile == 2:\n",
    "                    formatted_row.append(corner_bottom_left.ljust(3))\n",
    "                elif tile == 3:\n",
    "                    formatted_row.append(corner_bottom_right.ljust(3))\n",
    "                elif tile == 4:\n",
    "                    formatted_row.append(corner_top_right.ljust(3))\n",
    "                elif tile == 5:\n",
    "                    formatted_row.append(corner_top_left.ljust(3))\n",
    "                elif tile == ' ':\n",
    "                    formatted_row.append('   ')\n",
    "                elif tile == 7:\n",
    "                    formatted_row.append(door_horizontal.ljust(3))\n",
    "                elif tile == 8:\n",
    "                    formatted_row.append(door_vertical.ljust(3))  # Corrected variable name\n",
    "                else:\n",
    "                    formatted_row.append(str(tile).ljust(3))\n",
    "            output += \"[\" + \"\".join(formatted_row) + \"]\\n\"\n",
    "\n",
    "        return output\n",
    "\n",
    "\n",
    "\n",
    "\n",
    "\n",
    "\n",
    "\n",
    "    def validate_enclosure(self, tile_map, start_x, start_y):\n",
    "        \"\"\"\n",
    "        Validate an enclosure starting from a given tile using BFS/DFS.\n",
    "        Returns: is_valid (bool), total_score (int), tiles (set), tile_scores (dict)\n",
    "        \"\"\"\n",
    "        queue = [(start_x, start_y)]\n",
    "        tiles = set()\n",
    "        tile_scores = {}\n",
    "        directions = [(-1, 0), (1, 0), (0, -1), (0, 1)]\n",
    "        is_valid = True\n",
    "        total_score = 0\n",
    "\n",
    "        while queue:\n",
    "            x, y = queue.pop(0)\n",
    "\n",
    "            if (x, y) in tiles or not (0 <= x < self.width and 0 <= y < self.height):\n",
    "                continue\n",
    "\n",
    "            tiles.add((x, y))\n",
    "            tile = tile_map[y, x]\n",
    "            score = 0\n",
    "\n",
    "            # Evaluate the current tile based on its type\n",
    "            if tile in [TILE_WALL_HORIZONTAL, TILE_DOOR_HORIZONTAL]:\n",
    "                valid, contributions = self.validate_horizontal_tile(tile_map, x, y)\n",
    "            elif tile in [TILE_WALL_VERTICAL, TILE_DOOR_VERTICAL]:\n",
    "                valid, contributions = self.validate_vertical_tile(tile_map, x, y)\n",
    "            elif tile == TILE_WALL_CORNER_BOTTOM_LEFT:\n",
    "                valid, contributions = self.validate_bottom_left_corner(tile_map, x, y)\n",
    "            elif tile == TILE_WALL_CORNER_BOTTOM_RIGHT:\n",
    "                valid, contributions = self.validate_bottom_right_corner(tile_map, x, y)\n",
    "            elif tile == TILE_WALL_CORNER_TOP_RIGHT:\n",
    "                valid, contributions = self.validate_top_right_corner(tile_map, x, y)\n",
    "            elif tile == TILE_WALL_CORNER_TOP_LEFT:\n",
    "                valid, contributions = self.validate_top_left_corner(tile_map, x, y)\n",
    "            elif tile == TILE_FLOOR:  # Check floor tiles\n",
    "                valid, contributions = True, 1\n",
    "            else:\n",
    "                valid, contributions = False, -1  # Invalid tile\n",
    "\n",
    "            if not valid:\n",
    "                is_valid = False\n",
    "\n",
    "            if isinstance(contributions, dict):  # check if the score is calculated correctly\n",
    "                score += sum(contributions.values())\n",
    "            else:\n",
    "                score += contributions\n",
    "\n",
    "            tile_scores[(x, y)] = score\n",
    "            total_score += score\n",
    "\n",
    "            for dx, dy in directions:\n",
    "                nx, ny = x + dx, y + dy\n",
    "                if (nx, ny) not in tiles and 0 <= nx < self.width and 0 <= ny < self.height:\n",
    "                    queue.append((nx, ny))\n",
    "\n",
    "        return is_valid, total_score, tiles, tile_scores\n",
    "\n",
    "\n",
    "    def validate_horizontal_tile(self, tile_map, x, y):\n",
    "        \"\"\"\n",
    "        Validate a horizontal wall or door tile by checking its left and right neighbors.\n",
    "        Horizontal doors contribute additional positive score compared to walls.\n",
    "        \"\"\"\n",
    "        left = tile_map[y, x - 1] if x - 1 >= 0 else TILE_WALL_HORIZONTAL\n",
    "        right = tile_map[y, x + 1] if x + 1 < self.width else TILE_WALL_HORIZONTAL\n",
    "\n",
    "        valid_left = left in [TILE_WALL_HORIZONTAL, TILE_WALL_CORNER_BOTTOM_LEFT, TILE_WALL_CORNER_TOP_LEFT]\n",
    "        valid_right = right in [TILE_WALL_HORIZONTAL, TILE_WALL_CORNER_BOTTOM_RIGHT, TILE_WALL_CORNER_TOP_RIGHT]\n",
    "\n",
    "        is_valid = valid_left and valid_right\n",
    "        # Add extra score if it's a horizontal door\n",
    "        base_score = 10\n",
    "        score = base_score + 10 if tile_map[y, x] == TILE_DOOR_HORIZONTAL else base_score\n",
    "        score = score if is_valid else -3\n",
    "\n",
    "        return is_valid, score\n",
    "\n",
    "    def validate_vertical_tile(self, tile_map, x, y):\n",
    "        \"\"\"\n",
    "        Validate a vertical wall or door tile by checking its top and bottom neighbors.\n",
    "        Vertical doors contribute additional positive score compared to walls.\n",
    "        \"\"\"\n",
    "        above = tile_map[y - 1, x] if y - 1 >= 0 else TILE_WALL_VERTICAL\n",
    "        below = tile_map[y + 1, x] if y + 1 < self.height else TILE_WALL_VERTICAL\n",
    "\n",
    "        valid_above = above in [TILE_WALL_VERTICAL, TILE_WALL_CORNER_TOP_LEFT, TILE_WALL_CORNER_TOP_RIGHT]\n",
    "        valid_below = below in [TILE_WALL_VERTICAL, TILE_WALL_CORNER_BOTTOM_LEFT, TILE_WALL_CORNER_BOTTOM_RIGHT]\n",
    "\n",
    "        is_valid = valid_above and valid_below\n",
    "        # Add extra score if it's a vertical door\n",
    "        base_score = 10\n",
    "        score = base_score + 10 if tile_map[y, x] == TILE_DOOR_VERTICAL else base_score\n",
    "        score = score if is_valid else -3\n",
    "\n",
    "        return is_valid, score\n",
    "\n",
    "\n",
    "    def validate_bottom_left_corner(self, tile_map, x, y):\n",
    "        \"\"\"Validate a bottom-left corner based on its neighbors.\"\"\"\n",
    "        above = tile_map[y - 1, x] if y - 1 >= 0 else TILE_WALL_VERTICAL\n",
    "        right = tile_map[y, x + 1] if x + 1 < self.width else TILE_WALL_HORIZONTAL\n",
    "\n",
    "        valid_above = above in [TILE_WALL_VERTICAL, TILE_WALL_CORNER_TOP_LEFT]\n",
    "        valid_right = right in [TILE_WALL_HORIZONTAL, TILE_WALL_CORNER_BOTTOM_RIGHT]\n",
    "\n",
    "        is_valid = valid_above and valid_right\n",
    "        score = 10 if is_valid else -3\n",
    "        return is_valid, score\n",
    "\n",
    "    def validate_bottom_right_corner(self, tile_map, x, y):\n",
    "        \"\"\"Validate a bottom-right corner based on its neighbors.\"\"\"\n",
    "        above = tile_map[y - 1, x] if y - 1 >= 0 else TILE_WALL_VERTICAL\n",
    "        left = tile_map[y, x - 1] if x - 1 >= 0 else TILE_WALL_HORIZONTAL\n",
    "\n",
    "        valid_above = above in [TILE_WALL_VERTICAL, TILE_WALL_CORNER_TOP_RIGHT]\n",
    "        valid_left = left in [TILE_WALL_HORIZONTAL, TILE_WALL_CORNER_BOTTOM_LEFT]\n",
    "\n",
    "        is_valid = valid_above and valid_left\n",
    "        score = 10 if is_valid else -3\n",
    "        return is_valid, score\n",
    "\n",
    "    def validate_top_right_corner(self, tile_map, x, y):\n",
    "        \"\"\"Validate a top-right corner based on its neighbors.\"\"\"\n",
    "        below = tile_map[y + 1, x] if y + 1 < self.height else TILE_WALL_VERTICAL\n",
    "        left = tile_map[y, x - 1] if x - 1 >= 0 else TILE_WALL_HORIZONTAL\n",
    "\n",
    "        valid_below = below in [TILE_WALL_VERTICAL, TILE_WALL_CORNER_BOTTOM_RIGHT]\n",
    "        valid_left = left in [TILE_WALL_HORIZONTAL, TILE_WALL_CORNER_TOP_LEFT]\n",
    "\n",
    "        is_valid = valid_below and valid_left\n",
    "        score = 10 if is_valid else -3\n",
    "        return is_valid, score\n",
    "\n",
    "    def validate_top_left_corner(self, tile_map, x, y):\n",
    "        \"\"\"Validate a top-left corner based on its neighbors.\"\"\"\n",
    "        below = tile_map[y + 1, x] if y + 1 < self.height else TILE_WALL_VERTICAL\n",
    "        right = tile_map[y, x + 1] if x + 1 < self.width else TILE_WALL_HORIZONTAL\n",
    "\n",
    "        valid_below = below in [TILE_WALL_VERTICAL, TILE_WALL_CORNER_BOTTOM_LEFT]\n",
    "        valid_right = right in [TILE_WALL_HORIZONTAL, TILE_WALL_CORNER_TOP_RIGHT]\n",
    "\n",
    "        is_valid = valid_below and valid_right\n",
    "        score = 10 if is_valid else -3\n",
    "        return is_valid, score\n"
   ],
   "id": "bf3d0e6adf58fb62",
   "outputs": [],
   "execution_count": 74
  },
  {
   "metadata": {
    "ExecuteTime": {
     "end_time": "2025-02-18T20:58:37.023391Z",
     "start_time": "2025-02-18T20:58:36.985527Z"
    }
   },
   "cell_type": "code",
   "source": [
    "class LevelIndividual:\n",
    "    \"\"\"Represents an individual in the genetic algorithm.\"\"\"\n",
    "\n",
    "    def __init__(self, problem):\n",
    "        self.problem = problem\n",
    "        self.chromosome = self.randomize_chromosome()  # Chromosome is an N x N 2D tile matrix\n",
    "\n",
    "    def randomize_chromosome(self):\n",
    "    # Create random chromosome selecting from all tile types\n",
    "        chromosome = np.zeros((self.problem.height, self.problem.width), dtype=int)\n",
    "\n",
    "        for y in range(self.problem.height):\n",
    "            for x in range(self.problem.width):\n",
    "                # Randomly assign any possible wall type, corners, doors\n",
    "                chromosome[y, x] = random.choice([\n",
    "                    TILE_WALL_VERTICAL,\n",
    "                    TILE_WALL_HORIZONTAL,\n",
    "                    TILE_WALL_CORNER_TOP_LEFT,\n",
    "                    TILE_WALL_CORNER_TOP_RIGHT,\n",
    "                    TILE_WALL_CORNER_BOTTOM_LEFT,\n",
    "                    TILE_WALL_CORNER_BOTTOM_RIGHT,\n",
    "                ])\n",
    "\n",
    "        return chromosome\n",
    "\n",
    "\n",
    "    def mutate(self, mutation_rate):\n",
    "        \"\"\"\n",
    "        Mutate the chromosome by randomly changing tiles, excluding doors.\n",
    "        \"\"\"\n",
    "        for _ in range(int(self.problem.width * self.problem.height * mutation_rate)):\n",
    "            x = random.randint(0, self.problem.width - 1)\n",
    "            y = random.randint(0, self.problem.height - 1)\n",
    "\n",
    "            # Ensure doors remain immutable\n",
    "            if (x, y) not in [(door[0], door[1]) for door in self.problem.door_positions]:\n",
    "                self.chromosome[y, x] = random.choice([\n",
    "                    TILE_WALL_VERTICAL,\n",
    "                    TILE_WALL_HORIZONTAL,\n",
    "                    TILE_WALL_CORNER_BOTTOM_LEFT,\n",
    "                    TILE_WALL_CORNER_BOTTOM_RIGHT,\n",
    "                    TILE_WALL_CORNER_TOP_LEFT,\n",
    "                    TILE_WALL_CORNER_TOP_RIGHT\n",
    "                ])\n",
    "\n",
    "    def crossover(self, other_parent):\n",
    "        \"\"\"\n",
    "        Perform crossover with another parent.\n",
    "        Mix parts of the two maps.\n",
    "        \"\"\"\n",
    "        child1 = deepcopy(self)\n",
    "        child2 = deepcopy(other_parent)\n",
    "\n",
    "        # Single-point crossover on the 2D matrix\n",
    "        split_row = random.randint(0, self.problem.height - 1)\n",
    "\n",
    "        child1.chromosome[:split_row, :] = self.chromosome[:split_row, :]\n",
    "        child1.chromosome[split_row:, :] = other_parent.chromosome[split_row:, :]\n",
    "\n",
    "        child2.chromosome[:split_row, :] = other_parent.chromosome[:split_row, :]\n",
    "        child2.chromosome[split_row:, :] = self.chromosome[split_row:, :]\n",
    "\n",
    "        return child1, child2\n"
   ],
   "id": "114715ff91579c26",
   "outputs": [],
   "execution_count": 75
  },
  {
   "metadata": {
    "ExecuteTime": {
     "end_time": "2025-02-18T20:58:46.629025Z",
     "start_time": "2025-02-18T20:58:46.615991Z"
    }
   },
   "cell_type": "code",
   "source": [
    "class Parameters:\n",
    "    def __init__(self, population_size=POPULATION_SIZE, max_generations=MAX_GENERATIONS, mutation_rate=MUTATION_RATE):\n",
    "        self.population_size = population_size\n",
    "        self.max_generations = max_generations\n",
    "        self.mutation_rate = mutation_rate"
   ],
   "id": "a2fec92ae8d9617e",
   "outputs": [],
   "execution_count": 76
  },
  {
   "metadata": {
    "ExecuteTime": {
     "end_time": "2025-02-18T20:58:52.809679Z",
     "start_time": "2025-02-18T20:58:52.789244Z"
    }
   },
   "cell_type": "code",
   "source": [
    "problem = LevelGenerationProblem(width=10, height=10, num_rooms=3)\n",
    "# View the generated door positions\n",
    "print(\"Door positions:\", problem.door_positions)\n"
   ],
   "id": "1f2437273efd6fd6",
   "outputs": [
    {
     "name": "stdout",
     "output_type": "stream",
     "text": [
      "Door positions: [(5, 4, 7), (3, 2, 8)]\n"
     ]
    }
   ],
   "execution_count": 77
  },
  {
   "metadata": {
    "ExecuteTime": {
     "end_time": "2025-02-18T19:42:48.117604Z",
     "start_time": "2025-02-18T19:42:48.110770Z"
    }
   },
   "cell_type": "code",
   "source": "",
   "id": "43264a799dd82209",
   "outputs": [],
   "execution_count": null
  },
  {
   "metadata": {
    "ExecuteTime": {
     "end_time": "2025-02-18T20:58:58.732665Z",
     "start_time": "2025-02-18T20:58:58.721306Z"
    }
   },
   "cell_type": "code",
   "source": "ind1 = LevelIndividual(problem)",
   "id": "5b62b7e23c8044e5",
   "outputs": [],
   "execution_count": 78
  },
  {
   "metadata": {
    "ExecuteTime": {
     "end_time": "2025-02-18T20:59:02.166997Z",
     "start_time": "2025-02-18T20:59:02.150234Z"
    }
   },
   "cell_type": "code",
   "source": [
    "# Decode the individual's chromosome into a map\n",
    "decoded_map = problem.decode_chromosome(ind1.chromosome)\n",
    "print(\"Decoded Map:\")\n",
    "print(decoded_map)\n"
   ],
   "id": "9cd25939387b0d70",
   "outputs": [
    {
     "name": "stdout",
     "output_type": "stream",
     "text": [
      "Decoded Map:\n",
      "[[3 2 3 3 1 0 2 3 3 3]\n",
      " [1 1 3 4 5 5 1 2 2 0]\n",
      " [0 2 4 8 5 4 0 4 0 0]\n",
      " [2 5 2 5 5 5 5 3 1 1]\n",
      " [4 4 3 2 0 7 2 1 1 2]\n",
      " [3 4 0 5 2 2 2 5 2 0]\n",
      " [2 3 5 5 2 0 0 1 1 2]\n",
      " [5 2 1 3 4 4 0 5 0 1]\n",
      " [2 1 2 2 0 0 3 0 0 0]\n",
      " [5 2 1 1 3 1 0 2 5 3]]\n"
     ]
    }
   ],
   "execution_count": 79
  },
  {
   "metadata": {
    "ExecuteTime": {
     "end_time": "2025-02-18T20:59:04.478837Z",
     "start_time": "2025-02-18T20:59:04.458422Z"
    }
   },
   "cell_type": "code",
   "source": [
    "# Calculate fitness\n",
    "fitness, scored_map = problem.calculate_fitness(ind1.chromosome)\n",
    "print(\"Fitness:\", fitness)\n",
    "print(\"Scored Map:\", scored_map)\n"
   ],
   "id": "ba6a5ee072d1df5b",
   "outputs": [
    {
     "name": "stdout",
     "output_type": "stream",
     "text": [
      "Fitness: 1\n",
      "Scored Map: {(0, 0): 10, (1, 0): 10, (0, 1): 10, (2, 0): 10, (1, 1): 10, (0, 2): -3, (3, 0): -3, (2, 1): -3, (1, 2): -3, (0, 3): -3, (4, 0): -3, (3, 1): -3, (2, 2): -3, (1, 3): -3, (0, 4): 10, (5, 0): -3, (4, 1): -3, (3, 2): -3, (2, 3): -3, (1, 4): -3, (0, 5): 10, (6, 0): 10, (5, 1): -3, (4, 2): -3, (3, 3): -3, (2, 4): -3, (1, 5): -3, (0, 6): -3, (7, 0): 10, (6, 1): -3, (5, 2): -3, (4, 3): -3, (3, 4): -3, (2, 5): -3, (1, 6): 10, (0, 7): -3, (8, 0): -3, (7, 1): -3, (6, 2): -3, (5, 3): -3, (4, 4): 10, (3, 5): -3, (2, 6): -3, (1, 7): -3, (0, 8): 10, (9, 0): -3, (8, 1): -3, (7, 2): -3, (6, 3): -3, (5, 4): -3, (4, 5): -3, (3, 6): -3, (2, 7): 10, (1, 8): -3, (0, 9): -3, (9, 1): -3, (8, 2): -3, (7, 3): -3, (6, 4): 10, (5, 5): -3, (4, 6): -3, (3, 7): -3, (2, 8): -3, (1, 9): -3, (9, 2): -3, (8, 3): -3, (7, 4): 10, (6, 5): -3, (5, 6): -3, (4, 7): -3, (3, 8): -3, (2, 9): 10, (9, 3): 10, (8, 4): -3, (7, 5): -3, (6, 6): -3, (5, 7): -3, (4, 8): 10, (3, 9): 10, (9, 4): -3, (8, 5): -3, (7, 6): -3, (6, 7): 10, (5, 8): -3, (4, 9): 10, (9, 5): -3, (8, 6): -3, (7, 7): -3, (6, 8): -3, (5, 9): -3, (9, 6): 10, (8, 7): -3, (7, 8): 10, (6, 9): -3, (9, 7): -3, (8, 8): -3, (7, 9): -3, (9, 8): -3, (8, 9): -3, (9, 9): -3}\n"
     ]
    }
   ],
   "execution_count": 80
  },
  {
   "metadata": {
    "ExecuteTime": {
     "end_time": "2025-02-18T20:59:07.731026Z",
     "start_time": "2025-02-18T20:59:07.710964Z"
    }
   },
   "cell_type": "code",
   "source": [
    "scored_map = problem.generate_scored_map(ind1.chromosome)\n",
    "print(scored_map)\n"
   ],
   "id": "ebf5cec0d12d1615",
   "outputs": [
    {
     "name": "stdout",
     "output_type": "stream",
     "text": [
      "[_|  |__|           |__|       ]\n",
      "[------                        ]\n",
      "[                              ]\n",
      "[                           ---]\n",
      "[ |‾          |     |_---      ]\n",
      "[_|                            ]\n",
      "[   _|                       |_]\n",
      "[      ---          |          ]\n",
      "[ |_          |        |       ]\n",
      "[      ------_|                ]\n",
      "\n"
     ]
    }
   ],
   "execution_count": 81
  },
  {
   "metadata": {
    "ExecuteTime": {
     "end_time": "2025-02-18T19:42:48.416837200Z",
     "start_time": "2025-02-18T19:17:41.123315Z"
    }
   },
   "cell_type": "code",
   "source": [
    "def choose_parent(population):\n",
    "    # Tournament selection\n",
    "    tournament_size = 5\n",
    "    tournament = random.sample(population, tournament_size)\n",
    "    return max(tournament, key=lambda x: x.fitness)"
   ],
   "id": "889f1fa86811ac32",
   "outputs": [],
   "execution_count": 79
  },
  {
   "metadata": {},
   "cell_type": "code",
   "outputs": [],
   "execution_count": null,
   "source": [
    "def run_genetic(problem, params):\n",
    "    population = [LevelIndividual(problem) for _ in range(params.population_size)]\n",
    "\n",
    "    for generation in range(params.max_generations):\n",
    "        population.sort(key=lambda x: x.fitness, reverse=True)\n",
    "        best_individual = population[0]\n",
    "        if generation %10 == 0:\n",
    "            print(f\"Generation {generation}: Best fitness = {best_individual.fitness}\")\n",
    "\n",
    "        new_population = [best_individual] #Elitism\n",
    "\n",
    "        while len(new_population) < params.population_size:\n",
    "            parent1 = choose_parent(population)\n",
    "            parent2 = choose_parent(population)\n",
    "            child1, child2 = parent1.crossover(parent2)\n",
    "            child1.mutate(params.mutation_rate)\n",
    "            child2.mutate(params.mutation_rate)\n",
    "            new_population.extend([child1, child2])\n",
    "        population = new_population\n",
    "\n",
    "    return population[0]"
   ],
   "id": "86793b114c3e8dcb"
  },
  {
   "metadata": {},
   "cell_type": "code",
   "outputs": [],
   "execution_count": null,
   "source": "",
   "id": "62348ef97076333d"
  }
 ],
 "metadata": {
  "kernelspec": {
   "display_name": "Python 3",
   "language": "python",
   "name": "python3"
  },
  "language_info": {
   "codemirror_mode": {
    "name": "ipython",
    "version": 2
   },
   "file_extension": ".py",
   "mimetype": "text/x-python",
   "name": "python",
   "nbconvert_exporter": "python",
   "pygments_lexer": "ipython2",
   "version": "2.7.6"
  }
 },
 "nbformat": 4,
 "nbformat_minor": 5
}

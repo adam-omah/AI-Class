{
 "cells": [
  {
   "metadata": {
    "ExecuteTime": {
     "end_time": "2025-02-19T22:10:13.080700Z",
     "start_time": "2025-02-19T22:10:11.633910Z"
    }
   },
   "cell_type": "code",
   "source": [
    "import numpy as np\n",
    "from copy import deepcopy\n",
    "import random"
   ],
   "id": "5600219ff760319c",
   "outputs": [],
   "execution_count": 1
  },
  {
   "metadata": {
    "collapsed": true,
    "ExecuteTime": {
     "end_time": "2025-02-19T22:10:13.104740Z",
     "start_time": "2025-02-19T22:10:13.091647Z"
    }
   },
   "cell_type": "code",
   "source": [
    "# Tile wall index values\n",
    "TILE_WALL_VERTICAL = 0\n",
    "TILE_WALL_HORIZONTAL = 1\n",
    "TILE_WALL_CORNER_BOTTOM_LEFT = 2\n",
    "TILE_WALL_CORNER_BOTTOM_RIGHT = 3\n",
    "TILE_WALL_CORNER_TOP_RIGHT = 4\n",
    "TILE_WALL_CORNER_TOP_LEFT = 5\n",
    "TILE_FLOOR = 6\n",
    "TILE_DOOR_HORIZONTAL = 7\n",
    "TILE_DOOR_VERTICAL = 8"
   ],
   "id": "initial_id",
   "outputs": [],
   "execution_count": 2
  },
  {
   "metadata": {
    "ExecuteTime": {
     "end_time": "2025-02-19T22:10:14.342842Z",
     "start_time": "2025-02-19T22:10:14.335354Z"
    }
   },
   "cell_type": "code",
   "source": [
    "#Constants for genetic algorithm parameters\n",
    "POPULATION_SIZE = 100\n",
    "MAX_GENERATIONS = 100\n",
    "MUTATION_RATE = 0.1\n",
    "NUM_ROOMS = 3 #Target number of rooms"
   ],
   "id": "9d7e48951401c713",
   "outputs": [],
   "execution_count": 3
  },
  {
   "metadata": {
    "ExecuteTime": {
     "end_time": "2025-02-19T22:10:14.395323Z",
     "start_time": "2025-02-19T22:10:14.385749Z"
    }
   },
   "cell_type": "code",
   "source": [
    "class parameters:\n",
    "    def __init__(self, population_size=POPULATION_SIZE, max_generations=MAX_GENERATIONS, mutation_rate=MUTATION_RATE,num_rooms=NUM_ROOMS):\n",
    "        self.population_size = population_size\n",
    "        self.max_generations = max_generations\n",
    "        self.mutation_rate = mutation_rate\n",
    "        self.num_rooms = num_rooms\n",
    "        self.birth_rate_per_generation = 1\n",
    "        self.max_number_of_generations = 50"
   ],
   "id": "a2fec92ae8d9617e",
   "outputs": [],
   "execution_count": 4
  },
  {
   "metadata": {
    "ExecuteTime": {
     "end_time": "2025-02-19T22:10:14.451014Z",
     "start_time": "2025-02-19T22:10:14.442271Z"
    }
   },
   "cell_type": "code",
   "source": "",
   "id": "cdd86e7102554646",
   "outputs": [],
   "execution_count": null
  },
  {
   "metadata": {
    "ExecuteTime": {
     "end_time": "2025-02-19T22:10:14.512312Z",
     "start_time": "2025-02-19T22:10:14.468698Z"
    }
   },
   "cell_type": "code",
   "source": [
    "class LevelGenerationProblem:\n",
    "    \"\"\"Handles map size, door positions, and fitness evaluation.\"\"\"\n",
    "\n",
    "    def __init__(self, width, height, num_rooms):\n",
    "        self.width = width  # Map width (N)\n",
    "        self.height = height  # Map height (N)\n",
    "        self.num_rooms = num_rooms  # Number of rooms\n",
    "        self.door_positions = self.generate_door_positions()\n",
    "\n",
    "    def generate_door_positions(self):\n",
    "        \"\"\"\n",
    "        Generate immutable door positions for the map.\n",
    "        Doors are restricted to being within N-3 x N-3 to ensure they are further inside the map.\n",
    "        Vertical doors are accompanied by an additional door at x-1,\n",
    "        Horizontal doors are accompanied by an additional door at y-1.\n",
    "        \"\"\"\n",
    "        positions = []\n",
    "        for _ in range(self.num_rooms - 1):  # Generate `num_rooms - 1` doors\n",
    "            while True:\n",
    "                # Generate door positions further inside the map\n",
    "                x = random.randint(2, self.width - 3)\n",
    "                y = random.randint(2, self.height - 3)\n",
    "                orientation = random.choice([TILE_DOOR_HORIZONTAL, TILE_DOOR_VERTICAL])  # Random door type\n",
    "\n",
    "                if orientation == TILE_DOOR_VERTICAL:\n",
    "                    # Ensure space for the companion door at (x-1, y)\n",
    "                    if x - 1 >= 1:  # Check bounds\n",
    "                        positions.append((x, y, TILE_DOOR_VERTICAL))  # Main door\n",
    "                        positions.append((x - 1, y, TILE_DOOR_VERTICAL))  # Companion door\n",
    "                        break\n",
    "                elif orientation == TILE_DOOR_HORIZONTAL:\n",
    "                    # Ensure space for the companion door at (x, y-1)\n",
    "                    if y - 1 >= 1:  # Check bounds\n",
    "                        positions.append((x, y, TILE_DOOR_HORIZONTAL))  # Main door\n",
    "                        positions.append((x, y - 1, TILE_DOOR_HORIZONTAL))  # Companion door\n",
    "                        break\n",
    "\n",
    "        return positions\n",
    "\n",
    "\n",
    "\n",
    "    def decode_chromosome(self, chromosome):\n",
    "        \"\"\"Insert doors into the chromosome to build the full map.\"\"\"\n",
    "        map_with_doors = deepcopy(chromosome)\n",
    "\n",
    "        # Add predefined doors while maintaining immutability\n",
    "        for x, y, orientation in self.door_positions:\n",
    "            map_with_doors[y, x] = orientation\n",
    "\n",
    "        return map_with_doors\n",
    "\n",
    "    def calculate_fitness(self, chromosome):\n",
    "        \"\"\"\n",
    "        Fitness evaluation for a map, returning fitness and a score map.\n",
    "        \"\"\"\n",
    "        # Decode the chromosome to get the full map with doors\n",
    "        map_with_doors = self.decode_chromosome(chromosome)\n",
    "\n",
    "        # Initialize fitness and create a score map same shape as the map\n",
    "        fitness = 0\n",
    "        score_map = np.zeros((self.height, self.width), dtype=int)\n",
    "\n",
    "        # Iterate through every tile on the map\n",
    "        for y in range(self.height):\n",
    "            for x in range(self.width):\n",
    "                tile_type = map_with_doors[y, x]\n",
    "\n",
    "                # Skip non-evaluable tiles\n",
    "                if tile_type not in [\n",
    "                    TILE_WALL_HORIZONTAL,\n",
    "                    TILE_WALL_VERTICAL,\n",
    "                    TILE_DOOR_HORIZONTAL,\n",
    "                    TILE_DOOR_VERTICAL,\n",
    "                    TILE_WALL_CORNER_BOTTOM_LEFT,\n",
    "                    TILE_WALL_CORNER_BOTTOM_RIGHT,\n",
    "                    TILE_WALL_CORNER_TOP_RIGHT,\n",
    "                    TILE_WALL_CORNER_TOP_LEFT,\n",
    "                ]:\n",
    "                    continue\n",
    "\n",
    "                # Evaluate the single tile at (x, y)\n",
    "                is_valid, tile_score = self.validate_enclosure(map_with_doors, x, y)\n",
    "\n",
    "                # Aggregate the tile's contribution to the total fitness\n",
    "                fitness += tile_score\n",
    "\n",
    "                # Update the score map for the current tile\n",
    "                score_map[y, x] = tile_score\n",
    "\n",
    "\n",
    "        # Return total fitness and the aligned score map as a 2D numpy array\n",
    "        return fitness, score_map\n",
    "\n",
    "\n",
    "    def generate_display_map(self, chromosome):\n",
    "        \"\"\"\n",
    "        Generates a scored map from a chromosome, highlighting positive scores and\n",
    "        using spaces for non-positive scores.\n",
    "\n",
    "        Args:\n",
    "            chromosome: The chromosome representing the map.\n",
    "            \n",
    "        Returns:\n",
    "            str: Human-readable formatted display map as a string.\n",
    "        \"\"\"\n",
    "        # Decode the map and calculate fitness and scores\n",
    "        decoded_map = self.decode_chromosome(chromosome)\n",
    "        fitness, score_map = self.calculate_fitness(chromosome)\n",
    "\n",
    "        # Create a display map based on scores (positive scores retain the original tile)\n",
    "        scored_map = np.full_like(decoded_map, \" \", dtype=object)\n",
    "        for y in range(self.height):\n",
    "            for x in range(self.width):\n",
    "                if score_map[y, x] > 0:  # Correctly check score_map with (y, x) indexing\n",
    "                    scored_map[y, x] = decoded_map[y, x]  # Assign tile for positive scores\n",
    "                else:\n",
    "                    scored_map[y, x] = \" \"  # Non-positive scores are blank spaces\n",
    "\n",
    "        # Display logic to make it human-readable\n",
    "        vertical = ' | '\n",
    "        horizontal = '---'\n",
    "        corner_bottom_left = ' |_'\n",
    "        corner_bottom_right = '_| '\n",
    "        corner_top_right = '‾| '\n",
    "        corner_top_left = ' |‾'\n",
    "\n",
    "        door_horizontal = 'HD'\n",
    "        door_vertical = 'VD'\n",
    "\n",
    "        output = \"\"\n",
    "        for row in scored_map:\n",
    "            formatted_row = []\n",
    "            for tile in row:\n",
    "                if tile == 0:  # Vertical wall\n",
    "                    formatted_row.append(vertical.ljust(3))\n",
    "                elif tile == 1:  # Horizontal wall\n",
    "                    formatted_row.append(horizontal.ljust(3))\n",
    "                elif tile == 2:  # Corner bottom-left\n",
    "                    formatted_row.append(corner_bottom_left.ljust(3))\n",
    "                elif tile == 3:  # Corner bottom-right\n",
    "                    formatted_row.append(corner_bottom_right.ljust(3))\n",
    "                elif tile == 4:  # Corner top-right\n",
    "                    formatted_row.append(corner_top_right.ljust(3))\n",
    "                elif tile == 5:  # Corner top-left\n",
    "                    formatted_row.append(corner_top_left.ljust(3))\n",
    "                elif tile == ' ':  # Empty space for non-positive scores\n",
    "                    formatted_row.append('   ')\n",
    "                elif tile == 7:  # Horizontal door\n",
    "                    formatted_row.append(door_horizontal.ljust(3))\n",
    "                elif tile == 8:  # Vertical door\n",
    "                    formatted_row.append(door_vertical.ljust(3))\n",
    "                else:  # Default case for unmapped tiles\n",
    "                    formatted_row.append(str(tile).ljust(3))\n",
    "            output += \"[\" + \"\".join(formatted_row) + \"]\\n\"\n",
    "\n",
    "        return output\n",
    "\n",
    "\n",
    "\n",
    "\n",
    "    def validate_enclosure(self, tile_map, x, y):\n",
    "        \"\"\"\n",
    "        Evaluate a single tile in the given map.\n",
    "        Returns:\n",
    "            is_valid (bool): Whether the tile contributes validly to the enclosure.\n",
    "            tile_score (int): The score of the tile.\n",
    "            {(x, y): int}: A dictionary mapping the tile's position to its score.\n",
    "        \"\"\"\n",
    "        # Ensure the tile lies within valid map bounds\n",
    "        if not (0 <= x < self.width and 0 <= y < self.height):\n",
    "            return False, -1, {(x, y): -1}  # Invalid position outside map bounds\n",
    "\n",
    "        tile = tile_map[y, x]  # Access the tile\n",
    "        is_valid = True  # By default, assume the tile is valid\n",
    "        tile_score = 0  # Tile's contribution to fitness\n",
    "\n",
    "        # Evaluate the tile's score based on its type\n",
    "        if tile in [TILE_WALL_HORIZONTAL, TILE_DOOR_HORIZONTAL]:\n",
    "            is_valid, tile_score = self.validate_horizontal_tile(tile_map, x, y)\n",
    "        elif tile in [TILE_WALL_VERTICAL, TILE_DOOR_VERTICAL]:\n",
    "            is_valid, tile_score = self.validate_vertical_tile(tile_map, x, y)\n",
    "        elif tile == TILE_WALL_CORNER_BOTTOM_LEFT:\n",
    "            is_valid, tile_score = self.validate_bottom_left_corner(tile_map, x, y)\n",
    "        elif tile == TILE_WALL_CORNER_BOTTOM_RIGHT:\n",
    "            is_valid, tile_score = self.validate_bottom_right_corner(tile_map, x, y)\n",
    "        elif tile == TILE_WALL_CORNER_TOP_RIGHT:\n",
    "            is_valid, tile_score = self.validate_top_right_corner(tile_map, x, y)\n",
    "        elif tile == TILE_WALL_CORNER_TOP_LEFT:\n",
    "            is_valid, tile_score = self.validate_top_left_corner(tile_map, x, y)\n",
    "        elif tile == TILE_FLOOR:  # Assign flat score for floor tiles\n",
    "            is_valid, tile_score = True, 1\n",
    "        else:  # Invalid or unknown tile types\n",
    "            is_valid, tile_score = False, -1\n",
    "\n",
    "        # Return the results for this single tile\n",
    "        return is_valid, tile_score\n",
    "\n",
    "\n",
    "\n",
    "    def validate_horizontal_tile(self, tile_map, x, y):\n",
    "        \"\"\"\n",
    "        Validate a horizontal wall or door tile by checking its left and right neighbors.\n",
    "        Horizontal doors contribute additional positive score compared to walls.\n",
    "        \"\"\"\n",
    "        left = tile_map[y, x - 1] if x - 1 >= 0 else TILE_WALL_VERTICAL\n",
    "        right = tile_map[y, x + 1] if x + 1 < self.width else TILE_WALL_VERTICAL\n",
    "\n",
    "        valid_left = left in [TILE_WALL_HORIZONTAL, TILE_WALL_CORNER_BOTTOM_LEFT, TILE_WALL_CORNER_TOP_LEFT]\n",
    "        valid_right = right in [TILE_WALL_HORIZONTAL, TILE_WALL_CORNER_BOTTOM_RIGHT, TILE_WALL_CORNER_TOP_RIGHT]\n",
    "\n",
    "        is_valid = valid_left and valid_right\n",
    "        # Add extra score if it's a horizontal door\n",
    "        base_score = 10\n",
    "        score = base_score + 50 if tile_map[y, x] == TILE_DOOR_HORIZONTAL else base_score\n",
    "        score = score if is_valid else -3\n",
    "\n",
    "        return is_valid, score\n",
    "\n",
    "    def validate_vertical_tile(self, tile_map, x, y):\n",
    "        \"\"\"\n",
    "        Validate a vertical wall or door tile by checking its top and bottom neighbors.\n",
    "        Vertical doors contribute additional positive score compared to walls.\n",
    "        \"\"\"\n",
    "        above = tile_map[y - 1, x] if y - 1 >= 0 else TILE_WALL_HORIZONTAL\n",
    "        below = tile_map[y + 1, x] if y + 1 < self.height else TILE_WALL_HORIZONTAL\n",
    "\n",
    "        valid_above = above in [TILE_WALL_VERTICAL, TILE_WALL_CORNER_TOP_LEFT, TILE_WALL_CORNER_TOP_RIGHT]\n",
    "        valid_below = below in [TILE_WALL_VERTICAL, TILE_WALL_CORNER_BOTTOM_LEFT, TILE_WALL_CORNER_BOTTOM_RIGHT]\n",
    "\n",
    "        is_valid = valid_above and valid_below\n",
    "        # Add extra score if it's a vertical door\n",
    "        base_score = 10\n",
    "        score = base_score + 50 if tile_map[y, x] == TILE_DOOR_VERTICAL else base_score\n",
    "        score = score if is_valid else -3\n",
    "\n",
    "        return is_valid, score\n",
    "\n",
    "\n",
    "    def validate_bottom_left_corner(self, tile_map, x, y):\n",
    "        \"\"\"Validate a bottom-left corner based on its neighbors.\"\"\"\n",
    "        above = tile_map[y - 1, x] if y - 1 >= 0 else TILE_WALL_HORIZONTAL\n",
    "        right = tile_map[y, x + 1] if x + 1 < self.width else TILE_WALL_VERTICAL\n",
    "\n",
    "        valid_above = above in [TILE_WALL_VERTICAL, TILE_WALL_CORNER_TOP_LEFT]\n",
    "        valid_right = right in [TILE_WALL_HORIZONTAL, TILE_WALL_CORNER_BOTTOM_RIGHT]\n",
    "\n",
    "        is_valid = valid_above and valid_right\n",
    "        score = 10 if is_valid else -3\n",
    "        return is_valid, score\n",
    "\n",
    "    def validate_bottom_right_corner(self, tile_map, x, y):\n",
    "        \"\"\"Validate a bottom-right corner based on its neighbors.\"\"\"\n",
    "        above = tile_map[y - 1, x] if y - 1 >= 0 else TILE_WALL_HORIZONTAL\n",
    "        left = tile_map[y, x - 1] if x - 1 >= 0 else TILE_WALL_VERTICAL\n",
    "\n",
    "        valid_above = above in [TILE_WALL_VERTICAL, TILE_WALL_CORNER_TOP_RIGHT]\n",
    "        valid_left = left in [TILE_WALL_HORIZONTAL, TILE_WALL_CORNER_BOTTOM_LEFT]\n",
    "\n",
    "        is_valid = valid_above and valid_left\n",
    "        score = 10 if is_valid else -3\n",
    "        return is_valid, score\n",
    "\n",
    "    def validate_top_right_corner(self, tile_map, x, y):\n",
    "        \"\"\"Validate a top-right corner based on its neighbors.\"\"\"\n",
    "        below = tile_map[y + 1, x] if y + 1 < self.height else TILE_WALL_HORIZONTAL\n",
    "        left = tile_map[y, x - 1] if x - 1 >= 0 else TILE_WALL_VERTICAL\n",
    "\n",
    "        valid_below = below in [TILE_WALL_VERTICAL, TILE_WALL_CORNER_BOTTOM_RIGHT]\n",
    "        valid_left = left in [TILE_WALL_HORIZONTAL, TILE_WALL_CORNER_TOP_LEFT]\n",
    "\n",
    "        is_valid = valid_below and valid_left\n",
    "        score = 10 if is_valid else -3\n",
    "        return is_valid, score\n",
    "\n",
    "    def validate_top_left_corner(self, tile_map, x, y):\n",
    "        \"\"\"Validate a top-left corner based on its neighbors.\"\"\"\n",
    "        below = tile_map[y + 1, x] if y + 1 < self.height else TILE_WALL_HORIZONTAL\n",
    "        right = tile_map[y, x + 1] if x + 1 < self.width else TILE_WALL_VERTICAL\n",
    "\n",
    "        valid_below = below in [TILE_WALL_VERTICAL, TILE_WALL_CORNER_BOTTOM_LEFT]\n",
    "        valid_right = right in [TILE_WALL_HORIZONTAL, TILE_WALL_CORNER_TOP_RIGHT]\n",
    "\n",
    "        is_valid = valid_below and valid_right\n",
    "        score = 10 if is_valid else -3\n",
    "        return is_valid, score\n"
   ],
   "id": "bf3d0e6adf58fb62",
   "outputs": [],
   "execution_count": 5
  },
  {
   "metadata": {
    "ExecuteTime": {
     "end_time": "2025-02-19T22:10:14.537861Z",
     "start_time": "2025-02-19T22:10:14.524971Z"
    }
   },
   "cell_type": "code",
   "source": [
    "class LevelIndividual:\n",
    "    \"\"\"Represents an individual in the genetic algorithm.\"\"\"\n",
    "\n",
    "    def __init__(self, problem):\n",
    "        self.problem = problem\n",
    "        self.chromosome = self.randomize_chromosome()  # Chromosome is an N x N 2D tile matrix\n",
    "\n",
    "    def randomize_chromosome(self):\n",
    "    # Create random chromosome selecting from all tile types\n",
    "        chromosome = np.zeros((self.problem.height, self.problem.width), dtype=int)\n",
    "\n",
    "        for y in range(self.problem.height):\n",
    "            for x in range(self.problem.width):\n",
    "                # Randomly assign any possible wall type, corners, doors\n",
    "                chromosome[y, x] = random.choice([\n",
    "                    TILE_WALL_VERTICAL,\n",
    "                    TILE_WALL_HORIZONTAL,\n",
    "                    TILE_WALL_CORNER_TOP_LEFT,\n",
    "                    TILE_WALL_CORNER_TOP_RIGHT,\n",
    "                    TILE_WALL_CORNER_BOTTOM_LEFT,\n",
    "                    TILE_WALL_CORNER_BOTTOM_RIGHT,\n",
    "                ])\n",
    "\n",
    "        return chromosome\n",
    "\n",
    "\n",
    "    def mutate(self, mutation_rate):\n",
    "        \"\"\"\n",
    "        Mutate the chromosome by randomly changing tiles, excluding doors.\n",
    "        \"\"\"\n",
    "        for _ in range(int(self.problem.width * self.problem.height * mutation_rate)):\n",
    "            x = random.randint(0, self.problem.width - 1)\n",
    "            y = random.randint(0, self.problem.height - 1)\n",
    "\n",
    "            # Ensure doors remain immutable\n",
    "            if (x, y) not in [(door[0], door[1]) for door in self.problem.door_positions]:\n",
    "                self.chromosome[y, x] = random.choice([\n",
    "                    TILE_WALL_VERTICAL,\n",
    "                    TILE_WALL_HORIZONTAL,\n",
    "                    TILE_WALL_CORNER_BOTTOM_LEFT,\n",
    "                    TILE_WALL_CORNER_BOTTOM_RIGHT,\n",
    "                    TILE_WALL_CORNER_TOP_LEFT,\n",
    "                    TILE_WALL_CORNER_TOP_RIGHT\n",
    "                ])\n",
    "\n",
    "    def crossover(self, other_parent):\n",
    "        \"\"\"\n",
    "        Perform crossover with another parent.\n",
    "        Mix parts of the two maps.\n",
    "        \"\"\"\n",
    "        child1 = deepcopy(self)\n",
    "        child2 = deepcopy(other_parent)\n",
    "\n",
    "        # Single-point crossover on the 2D matrix\n",
    "        split_row = random.randint(0, self.problem.height - 1)\n",
    "\n",
    "        child1.chromosome[:split_row, :] = self.chromosome[:split_row, :]\n",
    "        child1.chromosome[split_row:, :] = other_parent.chromosome[split_row:, :]\n",
    "\n",
    "        child2.chromosome[:split_row, :] = other_parent.chromosome[:split_row, :]\n",
    "        child2.chromosome[split_row:, :] = self.chromosome[split_row:, :]\n",
    "\n",
    "        return child1, child2\n"
   ],
   "id": "114715ff91579c26",
   "outputs": [],
   "execution_count": 6
  },
  {
   "metadata": {
    "ExecuteTime": {
     "end_time": "2025-02-19T22:10:14.560055Z",
     "start_time": "2025-02-19T22:10:14.552486Z"
    }
   },
   "cell_type": "code",
   "source": [
    "problem = LevelGenerationProblem(width=10, height=10, num_rooms=3)\n",
    "# View the generated door positions\n",
    "print(\"Door positions:\", problem.door_positions)\n"
   ],
   "id": "1f2437273efd6fd6",
   "outputs": [
    {
     "name": "stdout",
     "output_type": "stream",
     "text": [
      "Door positions: [(4, 4, 8), (3, 4, 8), (3, 3, 8), (2, 3, 8)]\n"
     ]
    }
   ],
   "execution_count": 7
  },
  {
   "metadata": {
    "ExecuteTime": {
     "end_time": "2025-02-19T22:10:14.605506Z",
     "start_time": "2025-02-19T22:10:14.601301Z"
    }
   },
   "cell_type": "code",
   "source": "",
   "id": "43264a799dd82209",
   "outputs": [],
   "execution_count": null
  },
  {
   "metadata": {
    "ExecuteTime": {
     "end_time": "2025-02-19T22:10:14.663784Z",
     "start_time": "2025-02-19T22:10:14.654343Z"
    }
   },
   "cell_type": "code",
   "source": "ind1 = LevelIndividual(problem)",
   "id": "5b62b7e23c8044e5",
   "outputs": [],
   "execution_count": 8
  },
  {
   "metadata": {
    "ExecuteTime": {
     "end_time": "2025-02-19T22:10:14.743624Z",
     "start_time": "2025-02-19T22:10:14.728711Z"
    }
   },
   "cell_type": "code",
   "source": [
    "    # Decode the individual's chromosome into a map\n",
    "decoded_map = problem.decode_chromosome(ind1.chromosome)\n",
    "print(\"Decoded Map:\")\n",
    "print(decoded_map)\n"
   ],
   "id": "9cd25939387b0d70",
   "outputs": [
    {
     "name": "stdout",
     "output_type": "stream",
     "text": [
      "Decoded Map:\n",
      "[[0 0 5 0 5 5 4 2 2 2]\n",
      " [0 5 4 1 3 3 1 1 1 3]\n",
      " [3 0 2 0 1 1 1 4 4 3]\n",
      " [2 2 8 8 3 2 2 2 3 2]\n",
      " [1 0 0 8 8 0 5 1 4 4]\n",
      " [1 4 3 5 3 2 1 1 0 4]\n",
      " [2 2 1 0 3 4 2 0 0 4]\n",
      " [1 0 3 2 4 4 2 4 3 4]\n",
      " [3 1 2 1 2 1 4 5 4 3]\n",
      " [4 4 5 1 1 2 0 1 5 4]]\n"
     ]
    }
   ],
   "execution_count": 9
  },
  {
   "metadata": {
    "ExecuteTime": {
     "end_time": "2025-02-19T22:10:14.872878Z",
     "start_time": "2025-02-19T22:10:14.857728Z"
    }
   },
   "cell_type": "code",
   "source": [
    "# Calculate fitness\n",
    "fitness, scored_map = problem.calculate_fitness(ind1.chromosome)\n",
    "print(\"Fitness:\", fitness)\n",
    "print(\"Scored Map:\", scored_map)\n"
   ],
   "id": "ba6a5ee072d1df5b",
   "outputs": [
    {
     "name": "stdout",
     "output_type": "stream",
     "text": [
      "Fitness: -66\n",
      "Scored Map: [[-3 -3 -3 -3 -3 -3 -3 -3 -3 -3]\n",
      " [10 10 -3 -3 -3 -3 -3 10 10 -3]\n",
      " [-3 10 -3 -3 -3 10 10 -3 -3 -3]\n",
      " [-3 -3 -3 -3 -3 -3 -3 -3 10 -3]\n",
      " [-3 -3 -3 -3 -3 -3 -3 10 10 -3]\n",
      " [-3 -3 -3 -3 -3 10 10 -3 10 -3]\n",
      " [-3 -3 -3 10 -3 -3 -3 -3 10 -3]\n",
      " [-3 -3 -3 -3 -3 -3 -3 -3 -3 -3]\n",
      " [-3 -3 -3 -3 -3 10 10 -3 -3 -3]\n",
      " [-3 -3 -3 10 -3 -3 -3 -3 -3 -3]]\n"
     ]
    }
   ],
   "execution_count": 10
  },
  {
   "metadata": {
    "ExecuteTime": {
     "end_time": "2025-02-19T22:10:15.058587Z",
     "start_time": "2025-02-19T22:10:15.053022Z"
    }
   },
   "cell_type": "code",
   "source": [
    "scored_map = problem.generate_display_map(ind1.chromosome)\n",
    "print(scored_map)\n"
   ],
   "id": "ebf5cec0d12d1615",
   "outputs": [
    {
     "name": "stdout",
     "output_type": "stream",
     "text": [
      "[                              ]\n",
      "[ |  |‾               ------   ]\n",
      "[    |          ------         ]\n",
      "[                        _|    ]\n",
      "[                     ---‾|    ]\n",
      "[                |_---    |    ]\n",
      "[          |              |    ]\n",
      "[                              ]\n",
      "[               ---‾|          ]\n",
      "[         ---                  ]\n",
      "\n"
     ]
    }
   ],
   "execution_count": 11
  },
  {
   "metadata": {
    "ExecuteTime": {
     "end_time": "2025-02-19T22:10:15.096160Z",
     "start_time": "2025-02-19T22:10:15.089239Z"
    }
   },
   "cell_type": "code",
   "source": [
    "def choose_parents(population):\n",
    "    # Tournament selection\n",
    "    tournament_size = 5\n",
    "    tournament = random.sample(population, tournament_size)\n",
    "    return max(tournament, key=lambda x: x.cost)"
   ],
   "id": "889f1fa86811ac32",
   "outputs": [],
   "execution_count": 12
  },
  {
   "metadata": {
    "ExecuteTime": {
     "end_time": "2025-02-19T22:10:15.141525Z",
     "start_time": "2025-02-19T22:10:15.130069Z"
    }
   },
   "cell_type": "code",
   "source": [
    "# %%\n",
    "def run_genetic(prob, params):\n",
    "    # Read Variables\n",
    "    population_size = params.population_size\n",
    "    rate_of_gene_mutation = params.mutation_rate\n",
    "    # cost_function = prob.calculate_fitness()\n",
    "    number_of_children_per_generation = int(params.birth_rate_per_generation * population_size)\n",
    "    max_number_of_generations = params.max_number_of_generations\n",
    "\n",
    "    # Create Our Population\n",
    "    population = []\n",
    "    best_solution = LevelIndividual(prob)  # Use LevelIndividual\n",
    "    best_solution.cost = -100000  # Initialize with a very low cost\n",
    "\n",
    "    for i in range(population_size):\n",
    "        new_individual = LevelIndividual(prob)  # updated individual type\n",
    "        new_individual.cost, _ = prob.calculate_fitness(new_individual.chromosome)  # removed score map\n",
    "        if new_individual.cost > best_solution.cost:\n",
    "            best_solution = deepcopy(new_individual)\n",
    "        population.append(new_individual)\n",
    "\n",
    "    # Start Loop\n",
    "    for i in range(max_number_of_generations):\n",
    "        # Start generation loop\n",
    "        children = []\n",
    "        while (len(children) < number_of_children_per_generation):\n",
    "            # choose Parents\n",
    "            parent1 = choose_parents(population)\n",
    "            parent2 = choose_parents(population)\n",
    "\n",
    "            # Create children\n",
    "            child1, child2 = parent1.crossover(parent2)\n",
    "            child1.mutate(rate_of_gene_mutation)\n",
    "            child2.mutate(rate_of_gene_mutation)\n",
    "\n",
    "            child1.cost, _ = prob.calculate_fitness(child1.chromosome)\n",
    "            child2.cost, _ = prob.calculate_fitness(child2.chromosome)\n",
    "\n",
    "            # add children to population\n",
    "            children.append(child1)\n",
    "            children.append(child2)\n",
    "\n",
    "        # add children\n",
    "        population += children\n",
    "\n",
    "        # sort population\n",
    "        population = sorted(population, key=lambda x: x.cost, reverse=True)  # Sort in descending order\n",
    "\n",
    "        # cull population\n",
    "        population = population[:population_size]\n",
    "\n",
    "        # check solution\n",
    "        if population[0].cost > best_solution.cost:\n",
    "            best_solution = deepcopy(population[0])\n",
    "\n",
    "        print(f\"Generation {i}: Best solution cost = '{best_solution.cost}'\")\n",
    "\n",
    "    print( \"Best solution cost = '{best_solution.cost}'\", best_solution.cost)\n",
    "    return (population, best_solution)\n"
   ],
   "id": "86793b114c3e8dcb",
   "outputs": [],
   "execution_count": 13
  },
  {
   "metadata": {
    "ExecuteTime": {
     "end_time": "2025-02-19T22:10:15.165522Z",
     "start_time": "2025-02-19T22:10:15.158602Z"
    }
   },
   "cell_type": "code",
   "source": [
    "problem1 = LevelGenerationProblem(10,10,3)\n",
    "params1 = parameters()"
   ],
   "id": "e60cd47ea70e9793",
   "outputs": [],
   "execution_count": 14
  },
  {
   "metadata": {
    "ExecuteTime": {
     "end_time": "2025-02-19T22:10:19.006160Z",
     "start_time": "2025-02-19T22:10:15.194398Z"
    }
   },
   "cell_type": "code",
   "source": "pop, best = run_genetic(problem1,params1)",
   "id": "62348ef97076333d",
   "outputs": [
    {
     "name": "stdout",
     "output_type": "stream",
     "text": [
      "Generation 0: Best solution cost = '121'\n",
      "Generation 1: Best solution cost = '160'\n",
      "Generation 2: Best solution cost = '225'\n",
      "Generation 3: Best solution cost = '225'\n",
      "Generation 4: Best solution cost = '238'\n",
      "Generation 5: Best solution cost = '264'\n",
      "Generation 6: Best solution cost = '277'\n",
      "Generation 7: Best solution cost = '316'\n",
      "Generation 8: Best solution cost = '329'\n",
      "Generation 9: Best solution cost = '329'\n",
      "Generation 10: Best solution cost = '368'\n",
      "Generation 11: Best solution cost = '368'\n",
      "Generation 12: Best solution cost = '368'\n",
      "Generation 13: Best solution cost = '368'\n",
      "Generation 14: Best solution cost = '381'\n",
      "Generation 15: Best solution cost = '446'\n",
      "Generation 16: Best solution cost = '446'\n",
      "Generation 17: Best solution cost = '446'\n",
      "Generation 18: Best solution cost = '446'\n",
      "Generation 19: Best solution cost = '446'\n",
      "Generation 20: Best solution cost = '446'\n",
      "Generation 21: Best solution cost = '446'\n",
      "Generation 22: Best solution cost = '472'\n",
      "Generation 23: Best solution cost = '472'\n",
      "Generation 24: Best solution cost = '485'\n",
      "Generation 25: Best solution cost = '524'\n",
      "Generation 26: Best solution cost = '524'\n",
      "Generation 27: Best solution cost = '524'\n",
      "Generation 28: Best solution cost = '524'\n",
      "Generation 29: Best solution cost = '524'\n",
      "Generation 30: Best solution cost = '524'\n",
      "Generation 31: Best solution cost = '524'\n",
      "Generation 32: Best solution cost = '524'\n",
      "Generation 33: Best solution cost = '550'\n",
      "Generation 34: Best solution cost = '550'\n",
      "Generation 35: Best solution cost = '550'\n",
      "Generation 36: Best solution cost = '550'\n",
      "Generation 37: Best solution cost = '550'\n",
      "Generation 38: Best solution cost = '550'\n",
      "Generation 39: Best solution cost = '550'\n",
      "Generation 40: Best solution cost = '550'\n",
      "Generation 41: Best solution cost = '550'\n",
      "Generation 42: Best solution cost = '550'\n",
      "Generation 43: Best solution cost = '550'\n",
      "Generation 44: Best solution cost = '550'\n",
      "Generation 45: Best solution cost = '550'\n",
      "Generation 46: Best solution cost = '550'\n",
      "Generation 47: Best solution cost = '550'\n",
      "Generation 48: Best solution cost = '550'\n",
      "Generation 49: Best solution cost = '550'\n",
      "Best solution cost = '{best_solution.cost}' 550\n"
     ]
    }
   ],
   "execution_count": 15
  },
  {
   "metadata": {
    "ExecuteTime": {
     "end_time": "2025-02-19T22:10:19.030089Z",
     "start_time": "2025-02-19T22:10:19.018093Z"
    }
   },
   "cell_type": "code",
   "source": [
    "scored_map = problem.generate_display_map(best.chromosome)\n",
    "print(scored_map)"
   ],
   "id": "b7c2675eaa3935a1",
   "outputs": [
    {
     "name": "stdout",
     "output_type": "stream",
     "text": [
      "[          |‾‾|                ]\n",
      "[    |_    |  |  |    _|  |‾   ]\n",
      "[             |  |        |_   ]\n",
      "[ |  |           |    _|       ]\n",
      "[ |__|                         ]\n",
      "[      ---       |‾    |‾---_| ]\n",
      "[ |              |     |_---   ]\n",
      "[ |_      _|    _|             ]\n",
      "[    |‾‾|    ---‾|  |‾------   ]\n",
      "[    |__|       _|  |_---      ]\n",
      "\n"
     ]
    }
   ],
   "execution_count": 16
  },
  {
   "metadata": {
    "ExecuteTime": {
     "end_time": "2025-02-19T22:10:19.102220Z",
     "start_time": "2025-02-19T22:10:19.089268Z"
    }
   },
   "cell_type": "code",
   "source": [
    "fitness, scored_map = problem.calculate_fitness(best.chromosome)\n",
    "print(\"Fitness:\", fitness)\n",
    "print(\"Scored Map:\", scored_map)"
   ],
   "id": "13e4818aa662b4a8",
   "outputs": [
    {
     "name": "stdout",
     "output_type": "stream",
     "text": [
      "Fitness: 233\n",
      "Scored Map: [[-3 -3 -3 10 10 -3 -3 -3 -3 -3]\n",
      " [-3 10 -3 10 10 10 -3 10 10 -3]\n",
      " [-3 -3 -3 -3 10 10 -3 -3 10 -3]\n",
      " [10 10 -3 -3 -3 10 -3 10 -3 -3]\n",
      " [10 10 -3 -3 -3 -3 -3 -3 -3 -3]\n",
      " [-3 -3 10 -3 -3 10 -3 10 10 10]\n",
      " [10 -3 -3 -3 -3 10 -3 10 10 -3]\n",
      " [10 -3 -3 10 -3 10 -3 -3 -3 -3]\n",
      " [-3 10 10 -3 10 10 10 10 10 -3]\n",
      " [-3 10 10 -3 -3 10 10 10 -3 -3]]\n"
     ]
    }
   ],
   "execution_count": 17
  },
  {
   "metadata": {
    "ExecuteTime": {
     "end_time": "2025-02-19T22:10:19.193949Z",
     "start_time": "2025-02-19T22:10:19.180870Z"
    }
   },
   "cell_type": "code",
   "source": [
    "decoded_map = problem.decode_chromosome(best.chromosome)\n",
    "print(\"Decoded Map:\")\n",
    "print(decoded_map)"
   ],
   "id": "c5d1a453958823b3",
   "outputs": [
    {
     "name": "stdout",
     "output_type": "stream",
     "text": [
      "Decoded Map:\n",
      "[[0 0 2 5 4 0 3 0 1 0]\n",
      " [5 2 3 0 0 0 1 3 5 1]\n",
      " [4 4 4 0 0 0 4 4 2 3]\n",
      " [0 0 8 8 0 0 2 3 4 3]\n",
      " [2 3 5 8 8 3 2 2 0 4]\n",
      " [4 2 1 3 4 5 1 5 1 3]\n",
      " [0 1 2 4 1 0 0 2 1 1]\n",
      " [2 1 2 3 2 3 5 5 2 1]\n",
      " [0 5 4 1 1 4 5 1 1 3]\n",
      " [4 2 3 5 2 3 2 1 3 4]]\n"
     ]
    }
   ],
   "execution_count": 18
  }
 ],
 "metadata": {
  "kernelspec": {
   "display_name": "Python 3",
   "language": "python",
   "name": "python3"
  },
  "language_info": {
   "codemirror_mode": {
    "name": "ipython",
    "version": 2
   },
   "file_extension": ".py",
   "mimetype": "text/x-python",
   "name": "python",
   "nbconvert_exporter": "python",
   "pygments_lexer": "ipython2",
   "version": "2.7.6"
  }
 },
 "nbformat": 4,
 "nbformat_minor": 5
}

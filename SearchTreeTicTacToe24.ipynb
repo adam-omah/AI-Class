{
 "nbformat": 4,
 "nbformat_minor": 0,
 "metadata": {
  "colab": {
   "provenance": []
  },
  "kernelspec": {
   "name": "python3",
   "display_name": "Python 3"
  },
  "language_info": {
   "name": "python"
  }
 },
 "cells": [
  {
   "cell_type": "code",
   "execution_count": null,
   "metadata": {
    "id": "nqQJhNnni7Vt"
   },
   "outputs": [],
   "source": [
    "class CurrentBoard:\n",
    "  #Tic Tac Toe\n",
    "  board =\"\"\n",
    "  def __init__(self,string_def = \" \"*9) :\n",
    "      self.board = string_def\n",
    "      self.state = self.state_of_board()\n",
    "\n",
    "  def display(self, game_display = False):\n",
    "\n",
    "    if game_display:\n",
    "      ind =0\n",
    "      c = \"\"\n",
    "      for char in self.board:\n",
    "        if char == \" \":\n",
    "          c += str(ind)\n",
    "        else:\n",
    "          c+=char\n",
    "        ind+=1\n",
    "    else :\n",
    "      c = self.board\n",
    "\n",
    "    print(c[0] + \"|\" +c[1] + \"|\" +c[2])\n",
    "    print(\"-----\")\n",
    "    print(c[3] + \"|\" +c[4] + \"|\" +c[5])\n",
    "    print(\"-----\")\n",
    "    print(c[6] + \"|\" +c[7] + \"|\" +c[8])\n",
    "\n",
    "  def other(self,piece):\n",
    "    if piece == \"X\":\n",
    "      return \"O\"\n",
    "    return \"X\"\n",
    "\n",
    "  def Eq3(self,i1,i2,i3):\n",
    "    if self.board[i1] == \" \":\n",
    "      return False\n",
    "    return (self.board[i1] == self.board[i2]) and (self.board[i2] == self.board[i3])\n",
    "\n",
    "\n",
    "  def state_of_board(self):\n",
    "    if self.Eq3(0,1,2) or self.Eq3(0,3,6) or self.Eq3(0,4,8):\n",
    "      return self.board[0]\n",
    "    if self.Eq3(3,4,5) or self.Eq3(1,4,7) or self.Eq3(2,4,6):\n",
    "      return self.board[4]\n",
    "    if self.Eq3(6,7,8) or self.Eq3(2,5,8):\n",
    "      return self.board[8]\n",
    "\n",
    "    if \" \" in self.board:\n",
    "      return \"U\"\n",
    "    return \"D\"\n",
    "\n",
    "  def all_possible_moves(self, player_piece):\n",
    "    possible_moves = []\n",
    "    for index in range(len(self.board)):\n",
    "      if self.board[index] == \" \":\n",
    "        possible_moves.append( CurrentBoard(self.board[:index] + player_piece + self.board[index+1:]))\n",
    "\n",
    "    return possible_moves"
   ]
  },
  {
   "cell_type": "code",
   "source": [
    "class SearchTreeNode:\n",
    "  def __init__(self,board_instance,playing_as, ply=0):\n",
    "    self.children = []\n",
    "    self.value_is_assigned = False\n",
    "    self.ply_depth = ply\n",
    "    self.current_board = board_instance\n",
    "    self.move_for = playing_as\n",
    "    if self.current_board.state == \"U\":\n",
    "      self.generate_children()\n",
    "    else:   # Game over\n",
    "      if self.current_board.state == \"D\":\n",
    "        self.value = 0\n",
    "      else:\n",
    "        if ((self.ply_depth % 2) == 0):\n",
    "          self.value = -1\n",
    "        else:\n",
    "          self.value = 1\n",
    "      self.value_is_assigned = True\n",
    "\n",
    "  def min_max_value(self):\n",
    "    if self.value_is_assigned:\n",
    "      return self.value\n",
    "\n",
    "    self.children  = sorted(self.children, key = lambda x:x.min_max_value())\n",
    "\n",
    "    if ((self.ply_depth % 2) == 0):\n",
    "      # computers move\n",
    "      self.value = self.children[-1].value\n",
    "    else:\n",
    "      #players move\n",
    "      self.value = self.children[0].value\n",
    "    self.value_is_assigned = True\n",
    "\n",
    "    return self.value\n",
    "\n",
    "  def generate_children(self):\n",
    "    for board_for_next_move in self.current_board.all_possible_moves(self.move_for):\n",
    "      self.children.append(SearchTreeNode(board_for_next_move,self.current_board.other(self.move_for), ply = self.ply_depth +1))\n"
   ],
   "metadata": {
    "id": "KwFJ_qrhrs2V"
   },
   "execution_count": null,
   "outputs": []
  },
  {
   "cell_type": "code",
   "source": [
    "def play_Tic_Tac_Toe():\n",
    "  response = input(\"Do you wish to play first (y/n) ?\")\n",
    "  players_turn  = (response == \"y\")\n",
    "\n",
    "  response = input(\"Do you wish to play X or O  (X/O) ?\")\n",
    "  cb = CurrentBoard()\n",
    "  player_is_playing = cb.other(cb.other(response))\n",
    "\n",
    "  for _ in range(10):\n",
    "\n",
    "    if players_turn:\n",
    "      cb.display(game_display=True)\n",
    "      choice = input(\"Make your move \")\n",
    "      ind = int(choice)\n",
    "      cb = CurrentBoard(cb.board[:ind] + player_is_playing + cb.board[ind+1 :])\n",
    "      cb.display()\n",
    "\n",
    "    else:\n",
    "      search_tree = SearchTreeNode(cb,cb.other(player_is_playing))\n",
    "      search_tree.min_max_value()\n",
    "      cb = search_tree.children[-1].current_board\n",
    "    if cb.state != \"U\":\n",
    "      if cb.state == \"D\":\n",
    "        print( \" I cant believe it you drew !!\")\n",
    "      else:\n",
    "        if players_turn:\n",
    "          print( \"This is impossible!!!!\" )\n",
    "        else:\n",
    "          print(\"Too easy loser !!!\")\n",
    "          cb.display()\n",
    "\n",
    "      break\n",
    "\n",
    "    players_turn = not players_turn\n",
    "\n",
    "\n",
    "\n",
    "\n"
   ],
   "metadata": {
    "id": "aJfGYxIz6xDe"
   },
   "execution_count": null,
   "outputs": []
  },
  {
   "cell_type": "code",
   "source": [
    "play_Tic_Tac_Toe()"
   ],
   "metadata": {
    "colab": {
     "base_uri": "https://localhost:8080/"
    },
    "id": "C7fzMo0OVWAJ",
    "outputId": "8644be9e-ed5c-420a-b054-01c772929815"
   },
   "execution_count": null,
   "outputs": [
    {
     "output_type": "stream",
     "name": "stdout",
     "text": [
      "Do you wish to play first (y/n) ?y\n",
      "Do you wish to play X or O  (X/O) ?X\n",
      "0|1|2\n",
      "-----\n",
      "3|4|5\n",
      "-----\n",
      "6|7|8\n",
      "Make your move 0\n",
      "X| | \n",
      "-----\n",
      " | | \n",
      "-----\n",
      " | | \n",
      "X|1|2\n",
      "-----\n",
      "3|O|5\n",
      "-----\n",
      "6|7|8\n",
      "Make your move 8\n",
      "X| | \n",
      "-----\n",
      " |O| \n",
      "-----\n",
      " | |X\n",
      "X|1|2\n",
      "-----\n",
      "3|O|5\n",
      "-----\n",
      "6|O|X\n",
      "Make your move 2\n",
      "X| |X\n",
      "-----\n",
      " |O| \n",
      "-----\n",
      " |O|X\n",
      "Too easy loser !!!\n",
      "X|O|X\n",
      "-----\n",
      " |O| \n",
      "-----\n",
      " |O|X\n"
     ]
    }
   ]
  },
  {
   "cell_type": "code",
   "source": [
    "cb = CurrentBoard()"
   ],
   "metadata": {
    "id": "wUsFoKT6VW05"
   },
   "execution_count": null,
   "outputs": []
  },
  {
   "cell_type": "code",
   "source": [
    "cb.display()"
   ],
   "metadata": {
    "colab": {
     "base_uri": "https://localhost:8080/"
    },
    "id": "rmYNjbDoVyEy",
    "outputId": "fd479ae6-d2d9-4499-b210-a4fbeafe6d13"
   },
   "execution_count": null,
   "outputs": [
    {
     "output_type": "stream",
     "name": "stdout",
     "text": [
      " | | \n",
      "-----\n",
      " | | \n",
      "-----\n",
      " | | \n"
     ]
    }
   ]
  },
  {
   "cell_type": "code",
   "source": [
    "tree = SearchTreeNode(cb,\"X\")"
   ],
   "metadata": {
    "id": "wJRIW7RGV0Y4"
   },
   "execution_count": null,
   "outputs": []
  },
  {
   "cell_type": "code",
   "source": [
    "tree.children[4].children[6].current_board.display()"
   ],
   "metadata": {
    "colab": {
     "base_uri": "https://localhost:8080/"
    },
    "id": "uXcejt6gV9lh",
    "outputId": "f5e108b8-8cd2-47bb-8bbe-d105abca7263"
   },
   "execution_count": null,
   "outputs": [
    {
     "output_type": "stream",
     "name": "stdout",
     "text": [
      " | | \n",
      "-----\n",
      " |X| \n",
      "-----\n",
      " |O| \n"
     ]
    }
   ]
  },
  {
   "cell_type": "code",
   "source": [
    "tree.min_max_value()"
   ],
   "metadata": {
    "colab": {
     "base_uri": "https://localhost:8080/"
    },
    "id": "ntf3oniDWCiJ",
    "outputId": "24af9620-fd50-40fd-bd74-8379fb701450"
   },
   "execution_count": null,
   "outputs": [
    {
     "output_type": "execute_result",
     "data": {
      "text/plain": [
       "0"
      ]
     },
     "metadata": {},
     "execution_count": 19
    }
   ]
  },
  {
   "cell_type": "code",
   "source": [],
   "metadata": {
    "id": "KWXL-u_vW35p"
   },
   "execution_count": null,
   "outputs": []
  }
 ]
}
